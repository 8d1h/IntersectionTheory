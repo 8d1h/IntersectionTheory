{
 "cells": [
  {
   "cell_type": "code",
   "execution_count": 2,
   "id": "e25d4e1f",
   "metadata": {},
   "outputs": [],
   "source": [
    "using IntersectionTheory"
   ]
  },
  {
   "cell_type": "markdown",
   "id": "04b45b54",
   "metadata": {},
   "source": [
    "This notebook covers the examples from *Schubert2* [documentations](https://faculty.math.illinois.edu/Macaulay2/doc/Macaulay2/share/doc/Macaulay2/Schubert2/html/) and performs the computations in *IntersectionTheory*.\n",
    "### Lines on hypersurfaces\n",
    "The famous 27 lines on a cubic surface."
   ]
  },
  {
   "cell_type": "code",
   "execution_count": 3,
   "id": "efb724a8",
   "metadata": {},
   "outputs": [
    {
     "data": {
      "text/html": [
       "($27 c_{2}^{2}$, $27$)"
      ],
      "text/plain": [
       "(27*c_{2}^2, 27)"
      ]
     },
     "execution_count": 3,
     "metadata": {},
     "output_type": "execute_result"
    }
   ],
   "source": [
    "G = grassmannian(2, 4)\n",
    "S, Q = G.bundles\n",
    "B = symmetric_power(3, dual(S))\n",
    "c = chern(B.rank, B) # can also use ctop(B)\n",
    "c, integral(c)"
   ]
  },
  {
   "cell_type": "code",
   "execution_count": 4,
   "id": "9d9ac6f0",
   "metadata": {},
   "outputs": [
    {
     "name": "stdout",
     "output_type": "stream",
     "text": [
      "  0.049681 seconds (47.02 k allocations: 2.859 MiB, 97.99% compilation time)\n",
      "  0.001237 seconds (4.38 k allocations: 128.445 KiB)\n",
      "  0.001722 seconds (11.21 k allocations: 247.250 KiB)\n",
      "  0.002474 seconds (15.22 k allocations: 346.430 KiB)\n",
      "  0.003705 seconds (28.71 k allocations: 563.898 KiB)\n",
      "  0.005586 seconds (46.63 k allocations: 843.391 KiB)\n",
      "  0.008250 seconds (77.31 k allocations: 1.365 MiB)\n",
      "  0.011781 seconds (108.55 k allocations: 1.736 MiB)\n",
      "  0.019889 seconds (158.72 k allocations: 2.460 MiB)\n"
     ]
    },
    {
     "data": {
      "text/plain": [
       "9-element Vector{Nemo.fmpq}:\n",
       " 1\n",
       " 27\n",
       " 2875\n",
       " 698005\n",
       " 305093061\n",
       " 210480374951\n",
       " 210776836330775\n",
       " 289139638632755625\n",
       " 520764738758073845321"
      ]
     },
     "execution_count": 4,
     "metadata": {},
     "output_type": "execute_result"
    }
   ],
   "source": [
    "f = n -> (G = grassmannian(2, n+1);\n",
    "    (S, Q) = G.bundles;\n",
    "    symmetric_power(2n-3, dual(S)) |> ctop |> integral)\n",
    "[@time f(n) for n in 2:10]"
   ]
  },
  {
   "cell_type": "markdown",
   "id": "30a3e28c",
   "metadata": {},
   "source": [
    "In general, we can consider $k$-planes contained in a degree-$d$ hypersurface in $\\mathbf P^n$; when $n = \\frac1{k+1}\\binom{d+k}{d}+k$, we get a finite number.\n",
    "\n",
    "For larger $k$ and $d$, using Bott's formula to evaluate the integral is more efficient.\n",
    "\n",
    "To do this, use `grassmannian(k, n, bott=true)` to create a version of $\\mathrm{Gr}(k,n)$ with a $T^n$-action. Most of the syntax are the same when working with equivariant bundles:\n",
    "- `G.bundles` returns the subbundle and the quotient bundle;\n",
    "- `G.T` is the tangent bundle;\n",
    "- the operators `symmetric_power`, `exterior_power`, `dual`, `det`, direct sum, tensoring work the same."
   ]
  },
  {
   "cell_type": "code",
   "execution_count": 5,
   "id": "18cee8c4",
   "metadata": {},
   "outputs": [
    {
     "name": "stdout",
     "output_type": "stream",
     "text": [
      "n = 17\n",
      " 15.035461 seconds (63.58 M allocations: 1.453 GiB, 0.46% gc time, 2.42% compilation time)\n"
     ]
    },
    {
     "data": {
      "text/html": [
       "$64127725294951805931404297113125$"
      ],
      "text/latex": [
       "64127725294951805931404297113125"
      ],
      "text/plain": [
       "64127725294951805931404297113125"
      ]
     },
     "execution_count": 5,
     "metadata": {},
     "output_type": "execute_result"
    }
   ],
   "source": [
    "g = (k, d; bott=false) -> (\n",
    "    n = Int(binomial(d+k, d) // (k+1)) + k; @show n;\n",
    "    G = grassmannian(k+1, n+1, bott=bott);\n",
    "    (S, Q) = G.bundles;\n",
    "    symmetric_power(d, dual(S)) |> ctop |> integral)\n",
    "@time g(3, 5)"
   ]
  },
  {
   "cell_type": "code",
   "execution_count": 7,
   "id": "23df0d38",
   "metadata": {},
   "outputs": [
    {
     "name": "stdout",
     "output_type": "stream",
     "text": [
      "n = 17\n",
      "  0.461386 seconds (4.04 M allocations: 202.080 MiB, 25.18% gc time)\n"
     ]
    },
    {
     "data": {
      "text/html": [
       "$64127725294951805931404297113125$"
      ],
      "text/latex": [
       "64127725294951805931404297113125"
      ],
      "text/plain": [
       "64127725294951805931404297113125"
      ]
     },
     "execution_count": 7,
     "metadata": {},
     "output_type": "execute_result"
    }
   ],
   "source": [
    "@time g(3, 5, bott=true)"
   ]
  },
  {
   "cell_type": "markdown",
   "id": "acaf7805",
   "metadata": {},
   "source": [
    "### Conics on a quintic threefold"
   ]
  },
  {
   "cell_type": "code",
   "execution_count": 8,
   "id": "5e2e05ae",
   "metadata": {},
   "outputs": [
    {
     "data": {
      "text/html": [
       "$609250$"
      ],
      "text/latex": [
       "609250"
      ],
      "text/plain": [
       "609250"
      ]
     },
     "execution_count": 8,
     "metadata": {},
     "output_type": "execute_result"
    }
   ],
   "source": [
    "G = grassmannian(3, 5)\n",
    "S, Q = G.bundles\n",
    "B = symmetric_power(2, dual(S))\n",
    "X = proj(B)\n",
    "A = symmetric_power(5, dual(S)) - symmetric_power(3, dual(S)) * X.bundles[1]\n",
    "integral(chern(A))"
   ]
  },
  {
   "cell_type": "markdown",
   "id": "6854e3c1",
   "metadata": {},
   "source": [
    "### The Horrocks-Mumford bundle\n",
    "To introduce parameters, we use the `param` argument."
   ]
  },
  {
   "cell_type": "code",
   "execution_count": 9,
   "id": "4a69fb7c",
   "metadata": {},
   "outputs": [
    {
     "data": {
      "text/plain": [
       "AbsBundle of rank 2 on AbsVariety of dim 4"
      ]
     },
     "execution_count": 9,
     "metadata": {},
     "output_type": "execute_result"
    }
   ],
   "source": [
    "X, n = proj(4, param = \"n\")\n",
    "h = X.O1\n",
    "F = bundle(X, 2, 1 + 5h + 10h^2)"
   ]
  },
  {
   "cell_type": "code",
   "execution_count": 10,
   "id": "05e4d984",
   "metadata": {},
   "outputs": [
    {
     "data": {
      "text/html": [
       "$1 - h + 4 h^{2}$"
      ],
      "text/latex": [
       "1 - h + 4 h^{2}"
      ],
      "text/plain": [
       "1 - h + 4*h^2"
      ]
     },
     "execution_count": 10,
     "metadata": {},
     "output_type": "execute_result"
    }
   ],
   "source": [
    "G = 2*exterior_power(2, cotangent_bundle(X)) * OO(X, 2) - 5*OO(X, -1) - 5*OO(X)\n",
    "chern(G)"
   ]
  },
  {
   "cell_type": "code",
   "execution_count": 11,
   "id": "8d2e76cf",
   "metadata": {},
   "outputs": [
    {
     "data": {
      "text/plain": [
       "true"
      ]
     },
     "execution_count": 11,
     "metadata": {},
     "output_type": "execute_result"
    }
   ],
   "source": [
    "F == dual(G) * OO(X, 2)"
   ]
  },
  {
   "cell_type": "code",
   "execution_count": 12,
   "id": "c8fb50ce",
   "metadata": {
    "scrolled": true
   },
   "outputs": [
    {
     "data": {
      "text/html": [
       "$\\frac{n^{4} + 20 n^{3} + 125 n^{2} + 250 n + 24}{12}$"
      ],
      "text/latex": [
       "\\frac{n^{4} + 20 n^{3} + 125 n^{2} + 250 n + 24}{12}"
      ],
      "text/plain": [
       "(n^4 + 20*n^3 + 125*n^2 + 250*n + 24)//12"
      ]
     },
     "execution_count": 12,
     "metadata": {},
     "output_type": "execute_result"
    }
   ],
   "source": [
    "chi(F * OO(X, n)) # this returns a number in a function field"
   ]
  },
  {
   "cell_type": "code",
   "execution_count": 13,
   "id": "d51b4a9e",
   "metadata": {},
   "outputs": [
    {
     "data": {
      "text/html": [
       "$\\frac{1}{12} t^{4} + \\frac{5}{3} t^{3} + \\frac{125}{12} t^{2} + \\frac{125}{6} t + 2$"
      ],
      "text/latex": [
       "\\frac{1}{12} t^{4} + \\frac{5}{3} t^{3} + \\frac{125}{12} t^{2} + \\frac{125}{6} t + 2"
      ],
      "text/plain": [
       "1//12*t^4 + 5//3*t^3 + 125//12*t^2 + 125//6*t + 2"
      ]
     },
     "execution_count": 13,
     "metadata": {},
     "output_type": "execute_result"
    }
   ],
   "source": [
    "hilbert_polynomial(F) # this is a true polynomial"
   ]
  },
  {
   "cell_type": "markdown",
   "id": "5088adf5",
   "metadata": {},
   "source": [
    "### Riemann-Roch on a curve\n",
    "As before, we use `FunctionField` to introduce the two extra parameters."
   ]
  },
  {
   "cell_type": "code",
   "execution_count": 14,
   "id": "0b250279",
   "metadata": {},
   "outputs": [
    {
     "data": {
      "text/html": [
       "($-\\frac{1}{2} K$, $D - \\frac{1}{2} K$)"
      ],
      "text/plain": [
       "(-1//2*K, D - 1//2*K)"
      ]
     },
     "execution_count": 14,
     "metadata": {},
     "output_type": "execute_result"
    }
   ],
   "source": [
    "X, (e,f,D,K), (r,s) = variety(1, [\"e\",\"f\",\"D\",\"K\"], [1,1,1,1], param = [\"r\",\"s\"])\n",
    "X.T = bundle(X, 1, 1-K)\n",
    "chi(OO(X)), chi(OO(X, D))"
   ]
  },
  {
   "cell_type": "code",
   "execution_count": 15,
   "id": "83ab59f0",
   "metadata": {},
   "outputs": [
    {
     "data": {
      "text/html": [
       "(AbsBundle of rank r on AbsVariety of dim 1, AbsBundle of rank s on AbsVariety of dim 1)"
      ],
      "text/plain": [
       "(AbsBundle of rank r on AbsVariety of dim 1, AbsBundle of rank s on AbsVariety of dim 1)"
      ]
     },
     "execution_count": 15,
     "metadata": {},
     "output_type": "execute_result"
    }
   ],
   "source": [
    "E, F = bundle(X, r, 1+e), bundle(X, s, 1+f)"
   ]
  },
  {
   "cell_type": "code",
   "execution_count": 16,
   "id": "e2aaeec1",
   "metadata": {},
   "outputs": [
    {
     "data": {
      "text/html": [
       "$-s e + r f - \\frac{r s}{2} K$"
      ],
      "text/latex": [
       "-s e + r f - \\frac{r s}{2} K"
      ],
      "text/plain": [
       "-s*e + r*f - (r*s)//2*K"
      ]
     },
     "execution_count": 16,
     "metadata": {},
     "output_type": "execute_result"
    }
   ],
   "source": [
    "chi(hom(E, F))"
   ]
  },
  {
   "cell_type": "markdown",
   "id": "cf145dc0",
   "metadata": {},
   "source": [
    "### Riemann-Roch on a surface"
   ]
  },
  {
   "cell_type": "code",
   "execution_count": 17,
   "id": "cd957313",
   "metadata": {},
   "outputs": [
    {
     "data": {
      "text/html": [
       "($1 - \\frac{1}{2} K + \\frac{1}{12} K^{2} + \\frac{1}{12} \\operatorname{c}_{2}$, $\\frac{1}{12} K^{2} + \\frac{1}{12} \\operatorname{c}_{2}$)"
      ],
      "text/plain": [
       "(1 - 1//2*K + 1//12*K^2 + 1//12*c_2, 1//12*K^2 + 1//12*c_2)"
      ]
     },
     "execution_count": 17,
     "metadata": {},
     "output_type": "execute_result"
    }
   ],
   "source": [
    "X, (D,d1,K,c2,d2), r = variety(2, [\"D\",\"d_1\",\"K\",\"c_2\",\"d_2\"], [1,1,1,2,2], param = \"r\")\n",
    "X.T = bundle(X, 2, 1-K+c2)\n",
    "todd(X), chi(OO(X))"
   ]
  },
  {
   "cell_type": "code",
   "execution_count": 18,
   "id": "1ca9766b",
   "metadata": {},
   "outputs": [
    {
     "data": {
      "text/plain": [
       "AbsBundle of rank r on AbsVariety of dim 2"
      ]
     },
     "execution_count": 18,
     "metadata": {},
     "output_type": "execute_result"
    }
   ],
   "source": [
    "E = bundle(X, r, 1+d1+d2)"
   ]
  },
  {
   "cell_type": "code",
   "execution_count": 19,
   "id": "d80294c3",
   "metadata": {},
   "outputs": [
    {
     "data": {
      "text/html": [
       "($\\frac{1}{2} \\operatorname{d}_{1}^{2} - \\frac{1}{2} \\operatorname{d}_{1} K - \\operatorname{d}_{2}$, $\\frac{1}{2} D^{2} - \\frac{1}{2} D K$)"
      ],
      "text/plain": [
       "(1//2*d_1^2 - 1//2*d_1*K - d_2, 1//2*D^2 - 1//2*D*K)"
      ]
     },
     "execution_count": 19,
     "metadata": {},
     "output_type": "execute_result"
    }
   ],
   "source": [
    "chi(E - rank(E) * OO(X)), chi(OO(X, D) - OO(X))"
   ]
  },
  {
   "cell_type": "code",
   "execution_count": 20,
   "id": "7d9c6b77",
   "metadata": {},
   "outputs": [
    {
     "data": {
      "text/html": [
       "$-\\frac{1}{2} D - \\frac{1}{2} K$"
      ],
      "text/latex": [
       "-\\frac{1}{2} D - \\frac{1}{2} K"
      ],
      "text/plain": [
       "-1//2*D - 1//2*K"
      ]
     },
     "execution_count": 20,
     "metadata": {},
     "output_type": "execute_result"
    }
   ],
   "source": [
    "chi(OO(section_zero_locus(OO(X, D)))) # here D and K are the pullback to D"
   ]
  },
  {
   "cell_type": "code",
   "execution_count": 21,
   "id": "175b5fda",
   "metadata": {},
   "outputs": [
    {
     "data": {
      "text/html": [
       "$\\frac{n^{2} - 3 n + 2}{2}$"
      ],
      "text/latex": [
       "\\frac{n^{2} - 3 n + 2}{2}"
      ],
      "text/plain": [
       "(n^2 - 3*n + 2)//2"
      ]
     },
     "execution_count": 21,
     "metadata": {},
     "output_type": "execute_result"
    }
   ],
   "source": [
    "p_a = D -> 1 - chi(OO(D))\n",
    "P, n = proj(2, param = \"n\")\n",
    "p_a(section_zero_locus(OO(P, n))) # arithmetic genus of a plane curve of degree n; this is a number in Fn"
   ]
  },
  {
   "cell_type": "code",
   "execution_count": 22,
   "id": "94f2c649",
   "metadata": {},
   "outputs": [
    {
     "data": {
      "text/html": [
       "$m n - m - n + 1$"
      ],
      "text/latex": [
       "m n - m - n + 1"
      ],
      "text/plain": [
       "m*n - m - n + 1"
      ]
     },
     "execution_count": 22,
     "metadata": {},
     "output_type": "execute_result"
    }
   ],
   "source": [
    "P1, (m,n) = proj(1, param = [\"m\", \"n\"]); P2 = proj(1, base=P1.base)\n",
    "PxP = P1 * P2\n",
    "h = pullback(PxP→P1, P1.O1)\n",
    "k = pullback(PxP→P2, P2.O1)\n",
    "p_a(section_zero_locus(OO(PxP, m*h+n*k)))"
   ]
  },
  {
   "cell_type": "markdown",
   "id": "71b6adcd",
   "metadata": {},
   "source": [
    "### Riemann-Roch without denominators"
   ]
  },
  {
   "cell_type": "code",
   "execution_count": 23,
   "id": "0df26528",
   "metadata": {},
   "outputs": [
    {
     "data": {
      "text/html": [
       "($1 + d_{1} - e_{1} + d_{1}^{2} - 2 d_{1} e_{1} + e_{1}^{2} + d_{1}^{3} - 3 d_{1}^{2} e_{1} + 3 d_{1} e_{1}^{2} - e_{1}^{3}$, $2 + 3 d_{1} - e_{1} + 4 d_{1}^{2} - 3 d_{1} e_{1} + e_{1}^{2} - 2 e_{2} + 5 d_{1}^{3} - 6 d_{1}^{2} e_{1} + 4 d_{1} e_{1}^{2} - e_{1}^{3} - 7 d_{1} e_{2} + 3 e_{1} e_{2}$, $3 + 6 d_{1} - e_{1} + 10 d_{1}^{2} - 4 d_{1} e_{1} + e_{1}^{2} - 2 e_{2} + 15 d_{1}^{3} - 10 d_{1}^{2} e_{1} + 5 d_{1} e_{1}^{2} - e_{1}^{3} - 9 d_{1} e_{2} + 3 e_{1} e_{2} - 3 e_{3}$, $4 + 10 d_{1} - e_{1} + 20 d_{1}^{2} - 5 d_{1} e_{1} + e_{1}^{2} - 2 e_{2} + 35 d_{1}^{3} - 15 d_{1}^{2} e_{1} + 6 d_{1} e_{1}^{2} - e_{1}^{3} - 11 d_{1} e_{2} + 3 e_{1} e_{2} - 3 e_{3}$)"
      ],
      "text/plain": [
       "(1 + d_{1} - e_{1} + d_{1}^2 - 2*d_{1}*e_{1} + e_{1}^2 + d_{1}^3 - 3*d_{1}^2*e_{1} + 3*d_{1}*e_{1}^2 - e_{1}^3, 2 + 3*d_{1} - e_{1} + 4*d_{1}^2 - 3*d_{1}*e_{1} + e_{1}^2 - 2*e_{2} + 5*d_{1}^3 - 6*d_{1}^2*e_{1} + 4*d_{1}*e_{1}^2 - e_{1}^3 - 7*d_{1}*e_{2} + 3*e_{1}*e_{2}, 3 + 6*d_{1} - e_{1} + 10*d_{1}^2 - 4*d_{1}*e_{1} + e_{1}^2 - 2*e_{2} + 15*d_{1}^3 - 10*d_{1}^2*e_{1} + 5*d_{1}*e_{1}^2 - e_{1}^3 - 9*d_{1}*e_{2} + 3*e_{1}*e_{2} - 3*e_{3}, 4 + 10*d_{1} - e_{1} + 20*d_{1}^2 - 5*d_{1}*e_{1} + e_{1}^2 - 2*e_{2} + 35*d_{1}^3 - 15*d_{1}^2*e_{1} + 6*d_{1}*e_{1}^2 - e_{1}^3 - 11*d_{1}*e_{2} + 3*e_{1}*e_{2} - 3*e_{3})"
      ]
     },
     "execution_count": 23,
     "metadata": {},
     "output_type": "execute_result"
    }
   ],
   "source": [
    "f = (n,d,e) -> (\n",
    "    (X, (D, E)) = variety(n, [d=>\"d\", e=>\"e\"]);\n",
    "    p = chern(exterior_power(dual(D)) * E) - 1;\n",
    "    p ÷ ctop(D))\n",
    "f(4,1,1), f(4,1,2), f(4,1,3), f(4,1,4)"
   ]
  },
  {
   "cell_type": "markdown",
   "id": "0cf5469e",
   "metadata": {},
   "source": [
    "### A cubic fourfold containing a degree-5 del Pezzo surface\n",
    "The *Schubert2* documentation on this one is quite involved. In fact, the construction of the del Pezzo surface is just a series of blowups."
   ]
  },
  {
   "cell_type": "code",
   "execution_count": 24,
   "id": "b712fec9",
   "metadata": {},
   "outputs": [
    {
     "data": {
      "text/html": [
       "$e_{4} + e_{3} + e_{2} + e_{1} - 3 h$"
      ],
      "text/latex": [
       "e_{4} + e_{3} + e_{2} + e_{1} - 3 h"
      ],
      "text/plain": [
       "e_{4} + e_{3} + e_{2} + e_{1} - 3*h"
      ]
     },
     "execution_count": 24,
     "metadata": {},
     "output_type": "execute_result"
    }
   ],
   "source": [
    "P2, (r,s) = proj(2, param = [\"r\", \"s\"])\n",
    "S = blowup_points(4, P2)\n",
    "K = canonical_class(S)"
   ]
  },
  {
   "cell_type": "code",
   "execution_count": 25,
   "id": "dfcc932e",
   "metadata": {},
   "outputs": [
    {
     "data": {
      "text/html": [
       "(AbsVariety of dim 4, AbsVariety of dim 3)"
      ],
      "text/plain": [
       "(AbsVariety of dim 4, AbsVariety of dim 3)"
      ]
     },
     "execution_count": 25,
     "metadata": {},
     "output_type": "execute_result"
    }
   ],
   "source": [
    "Y = complete_intersection(proj(5, base=S.base), 3)\n",
    "# here it's important to use `inclusion=true` since usually there is no algebraic class in Y for S\n",
    "i = hom(S, Y, [-K], inclusion=true)\n",
    "Bl, E = blowup(i)"
   ]
  },
  {
   "cell_type": "code",
   "execution_count": 26,
   "id": "69bd630a",
   "metadata": {},
   "outputs": [
    {
     "data": {
      "text/html": [
       "($5$, $1$)"
      ],
      "text/plain": [
       "(5, 1)"
      ]
     },
     "execution_count": 26,
     "metadata": {},
     "output_type": "execute_result"
    }
   ],
   "source": [
    "h = (Bl → Y).pullback(Y.O1)\n",
    "e = (E → Bl).pushforward(E(1))\n",
    "chi(bundle(Bl, 1, 2h-e)), integral((2h-e)^4)"
   ]
  },
  {
   "cell_type": "code",
   "execution_count": 27,
   "id": "8f05205f",
   "metadata": {},
   "outputs": [
    {
     "data": {
      "text/html": [
       "($\\frac{3 r^{4} - 30 r^{2} s^{2} - 40 r s^{3} - 7 s^{4} + 18 r^{3} + 30 r^{2} s - 30 r s^{2} - 46 s^{3} + 45 r^{2} + 70 r s - 5 s^{2} + 54 r + 58 s + 24}{24}$, $3 r^{4} - 30 r^{2} s^{2} - 40 r s^{3} - 7 s^{4}$)"
      ],
      "text/plain": [
       "((3*r^4 - 30*r^2*s^2 - 40*r*s^3 - 7*s^4 + 18*r^3 + 30*r^2*s - 30*r*s^2 - 46*s^3 + 45*r^2 + 70*r*s - 5*s^2 + 54*r + 58*s + 24)//24, 3*r^4 - 30*r^2*s^2 - 40*r*s^3 - 7*s^4)"
      ]
     },
     "execution_count": 27,
     "metadata": {},
     "output_type": "execute_result"
    }
   ],
   "source": [
    "chi(bundle(Bl, 1, r*h+s*e)), integral((r*h+s*e)^4)"
   ]
  },
  {
   "cell_type": "markdown",
   "id": "40693731",
   "metadata": {},
   "source": [
    "Moreover, we can compute the intersection matrix of the cubic and verify that it has determinant 14 (to be honest, the only missing ingredient is the self-intersection number of $S$ in $Y$, which can be computed as the integral of the top Chern class of the normal bundle, and does not need the above construction)."
   ]
  },
  {
   "cell_type": "code",
   "execution_count": 28,
   "id": "0365f9a7",
   "metadata": {},
   "outputs": [
    {
     "data": {
      "text/html": [
       "($\\left[\\begin{array}{cc}\n",
       "3 & 5 \\\\\n",
       "5 & 13\n",
       "\\end{array}\\right]$, $14$, $13$)"
      ],
      "text/plain": [
       "([3 5; 5 13], 14, 13)"
      ]
     },
     "execution_count": 28,
     "metadata": {},
     "output_type": "execute_result"
    }
   ],
   "source": [
    "Y1 = i.codomain\n",
    "h = Y1.O1\n",
    "s = pushforward(i, S(1))\n",
    "M = intersection_matrix([h^2, s])\n",
    "M, det(M), integral(ctop(-i.T)) # the last one is the top Chern class of the normal bundle, which indeed gives 13"
   ]
  },
  {
   "cell_type": "markdown",
   "id": "1cd74c83",
   "metadata": {},
   "source": [
    "### Examples from Schubert\n",
    "#### Hilbert polynomial and Todd class of projective 3-space"
   ]
  },
  {
   "cell_type": "code",
   "execution_count": 29,
   "id": "7372805b",
   "metadata": {},
   "outputs": [
    {
     "data": {
      "text/html": [
       "$\\frac{n^{3} + 6 n^{2} + 11 n + 6}{6}$"
      ],
      "text/latex": [
       "\\frac{n^{3} + 6 n^{2} + 11 n + 6}{6}"
      ],
      "text/plain": [
       "(n^3 + 6*n^2 + 11*n + 6)//6"
      ]
     },
     "execution_count": 29,
     "metadata": {},
     "output_type": "execute_result"
    }
   ],
   "source": [
    "P, n = proj(3, param = \"n\")\n",
    "chi(OO(P, n))"
   ]
  },
  {
   "cell_type": "code",
   "execution_count": 30,
   "id": "91a0cdc3",
   "metadata": {},
   "outputs": [
    {
     "data": {
      "text/html": [
       "(1//6) * (t + 1) * (t + 3) * (t + 2)"
      ],
      "text/plain": [
       "(1//6) * (t + 1) * (t + 3) * (t + 2)"
      ]
     },
     "execution_count": 30,
     "metadata": {},
     "output_type": "execute_result"
    }
   ],
   "source": [
    "Nemo.factor(hilbert_polynomial(proj(3)))"
   ]
  },
  {
   "cell_type": "code",
   "execution_count": 31,
   "id": "107e37b6",
   "metadata": {},
   "outputs": [
    {
     "data": {
      "text/html": [
       "$1 + 2 h + \\frac{11}{6} h^{2} + h^{3}$"
      ],
      "text/latex": [
       "1 + 2 h + \\frac{11}{6} h^{2} + h^{3}"
      ],
      "text/plain": [
       "1 + 2*h + 11//6*h^2 + h^3"
      ]
     },
     "execution_count": 31,
     "metadata": {},
     "output_type": "execute_result"
    }
   ],
   "source": [
    "todd(proj(3))"
   ]
  },
  {
   "cell_type": "markdown",
   "id": "2b446f33",
   "metadata": {},
   "source": [
    "#### Generation of formulas"
   ]
  },
  {
   "cell_type": "code",
   "execution_count": 32,
   "id": "6d3bc875",
   "metadata": {},
   "outputs": [
    {
     "data": {
      "text/html": [
       "$1 + c_{1} + c_{2}$"
      ],
      "text/latex": [
       "1 + c_{1} + c_{2}"
      ],
      "text/plain": [
       "1 + c_{1} + c_{2}"
      ]
     },
     "execution_count": 32,
     "metadata": {},
     "output_type": "execute_result"
    }
   ],
   "source": [
    "X, (A,B) = variety(4, [2=>\"c\", 3=>\"d\"])\n",
    "chern(A)"
   ]
  },
  {
   "cell_type": "code",
   "execution_count": 33,
   "id": "4ad37e6d",
   "metadata": {},
   "outputs": [
    {
     "data": {
      "text/html": [
       "$1 - d_{1} + d_{1}^{2} - d_{2} - d_{1}^{3} + 2 d_{1} d_{2} - d_{3} + d_{1}^{4} - 3 d_{1}^{2} d_{2} + d_{2}^{2} + 2 d_{1} d_{3}$"
      ],
      "text/latex": [
       "1 - d_{1} + d_{1}^{2} - d_{2} - d_{1}^{3} + 2 d_{1} d_{2} - d_{3} + d_{1}^{4} - 3 d_{1}^{2} d_{2} + d_{2}^{2} + 2 d_{1} d_{3}"
      ],
      "text/plain": [
       "1 - d_{1} + d_{1}^2 - d_{2} - d_{1}^3 + 2*d_{1}*d_{2} - d_{3} + d_{1}^4 - 3*d_{1}^2*d_{2} + d_{2}^2 + 2*d_{1}*d_{3}"
      ]
     },
     "execution_count": 33,
     "metadata": {},
     "output_type": "execute_result"
    }
   ],
   "source": [
    "segre(B)"
   ]
  },
  {
   "cell_type": "code",
   "execution_count": 34,
   "id": "be293c8d",
   "metadata": {},
   "outputs": [
    {
     "data": {
      "text/html": [
       "$1 + 3 c_{1} + 2 d_{1} + 3 c_{1}^{2} + 5 c_{1} d_{1} + d_{1}^{2} + 3 c_{2} + 2 d_{2} + c_{1}^{3} + 4 c_{1}^{2} d_{1} + 2 c_{1} d_{1}^{2} + 6 c_{1} c_{2} + 4 c_{2} d_{1} + 4 c_{1} d_{2} + 2 d_{1} d_{2} + 2 d_{3} + c_{1}^{3} d_{1} + c_{1}^{2} d_{1}^{2} + 3 c_{1}^{2} c_{2} + 6 c_{1} c_{2} d_{1} + 2 c_{2} d_{1}^{2} + 3 c_{1}^{2} d_{2} + 3 c_{1} d_{1} d_{2} + 3 c_{2}^{2} + d_{2}^{2} + 3 c_{1} d_{3} + 2 d_{1} d_{3}$"
      ],
      "text/latex": [
       "1 + 3 c_{1} + 2 d_{1} + 3 c_{1}^{2} + 5 c_{1} d_{1} + d_{1}^{2} + 3 c_{2} + 2 d_{2} + c_{1}^{3} + 4 c_{1}^{2} d_{1} + 2 c_{1} d_{1}^{2} + 6 c_{1} c_{2} + 4 c_{2} d_{1} + 4 c_{1} d_{2} + 2 d_{1} d_{2} + 2 d_{3} + c_{1}^{3} d_{1} + c_{1}^{2} d_{1}^{2} + 3 c_{1}^{2} c_{2} + 6 c_{1} c_{2} d_{1} + 2 c_{2} d_{1}^{2} + 3 c_{1}^{2} d_{2} + 3 c_{1} d_{1} d_{2} + 3 c_{2}^{2} + d_{2}^{2} + 3 c_{1} d_{3} + 2 d_{1} d_{3}"
      ],
      "text/plain": [
       "1 + 3*c_{1} + 2*d_{1} + 3*c_{1}^2 + 5*c_{1}*d_{1} + d_{1}^2 + 3*c_{2} + 2*d_{2} + c_{1}^3 + 4*c_{1}^2*d_{1} + 2*c_{1}*d_{1}^2 + 6*c_{1}*c_{2} + 4*c_{2}*d_{1} + 4*c_{1}*d_{2} + 2*d_{1}*d_{2} + 2*d_{3} + c_{1}^3*d_{1} + c_{1}^2*d_{1}^2 + 3*c_{1}^2*c_{2} + 6*c_{1}*c_{2}*d_{1} + 2*c_{2}*d_{1}^2 + 3*c_{1}^2*d_{2} + 3*c_{1}*d_{1}*d_{2} + 3*c_{2}^2 + d_{2}^2 + 3*c_{1}*d_{3} + 2*d_{1}*d_{3}"
      ]
     },
     "execution_count": 34,
     "metadata": {},
     "output_type": "execute_result"
    }
   ],
   "source": [
    "chern(A*B)"
   ]
  },
  {
   "cell_type": "code",
   "execution_count": 35,
   "id": "72c2cd89",
   "metadata": {},
   "outputs": [
    {
     "data": {
      "text/html": [
       "$-6 c_{1}^{3} - 30 c_{1} c_{2}$"
      ],
      "text/latex": [
       "-6 c_{1}^{3} - 30 c_{1} c_{2}"
      ],
      "text/plain": [
       "-6*c_{1}^3 - 30*c_{1}*c_{2}"
      ]
     },
     "execution_count": 35,
     "metadata": {},
     "output_type": "execute_result"
    }
   ],
   "source": [
    "chern(3, symmetric_power(3, dual(A)))"
   ]
  },
  {
   "cell_type": "code",
   "execution_count": 36,
   "id": "2ee9f47b",
   "metadata": {},
   "outputs": [
    {
     "data": {
      "text/html": [
       "$6 c_{1}^{2} - 8 c_{1} d_{1} + 3 d_{1}^{2} - d_{2}$"
      ],
      "text/latex": [
       "6 c_{1}^{2} - 8 c_{1} d_{1} + 3 d_{1}^{2} - d_{2}"
      ],
      "text/plain": [
       "6*c_{1}^2 - 8*c_{1}*d_{1} + 3*d_{1}^2 - d_{2}"
      ]
     },
     "execution_count": 36,
     "metadata": {},
     "output_type": "execute_result"
    }
   ],
   "source": [
    "segre(2, hom(exterior_power(2, A), exterior_power(2, B)))"
   ]
  },
  {
   "cell_type": "markdown",
   "id": "583b2344",
   "metadata": {},
   "source": [
    "#### Grassmannian of lines in $\\mathbf P^3$"
   ]
  },
  {
   "cell_type": "code",
   "execution_count": 37,
   "id": "24ca959d",
   "metadata": {},
   "outputs": [
    {
     "data": {
      "text/html": [
       "$\\frac{n^{3} + 6 n^{2} + 11 n + 6}{6}$"
      ],
      "text/latex": [
       "\\frac{n^{3} + 6 n^{2} + 11 n + 6}{6}"
      ],
      "text/plain": [
       "(n^3 + 6*n^2 + 11*n + 6)//6"
      ]
     },
     "execution_count": 37,
     "metadata": {},
     "output_type": "execute_result"
    }
   ],
   "source": [
    "G, n = grassmannian(2, 4, param = \"n\")\n",
    "Q = G.bundles[2]\n",
    "chi(symmetric_power(n, Q))"
   ]
  },
  {
   "cell_type": "code",
   "execution_count": 38,
   "id": "81fca89c",
   "metadata": {},
   "outputs": [
    {
     "data": {
      "text/html": [
       "($\\frac{n^{4} + 8 n^{3} + 23 n^{2} + 28 n + 12}{12}$, $\\frac{1}{12} t^{4} + \\frac{2}{3} t^{3} + \\frac{23}{12} t^{2} + \\frac{7}{3} t + 1$)"
      ],
      "text/plain": [
       "((n^4 + 8*n^3 + 23*n^2 + 28*n + 12)//12, 1//12*t^4 + 2//3*t^3 + 23//12*t^2 + 7//3*t + 1)"
      ]
     },
     "execution_count": 38,
     "metadata": {},
     "output_type": "execute_result"
    }
   ],
   "source": [
    "chi(OO(G, n)), hilbert_polynomial(G)"
   ]
  },
  {
   "cell_type": "code",
   "execution_count": 39,
   "id": "f1325874",
   "metadata": {},
   "outputs": [
    {
     "data": {
      "text/html": [
       "($\\frac{n^{4} + 8 n^{3} + 23 n^{2} + 28 n + 12}{12}$, $\\frac{1}{12} t^{4} + \\frac{2}{3} t^{3} + \\frac{23}{12} t^{2} + \\frac{7}{3} t + 1$)"
      ],
      "text/plain": [
       "((n^4 + 8*n^3 + 23*n^2 + 28*n + 12)//12, 1//12*t^4 + 2//3*t^3 + 23//12*t^2 + 7//3*t + 1)"
      ]
     },
     "execution_count": 39,
     "metadata": {},
     "output_type": "execute_result"
    }
   ],
   "source": [
    "P5 = proj(5, base=G.base)\n",
    "chi(OO(P5, n) - OO(P5, n-2)), hilbert_polynomial(complete_intersection(P5, 2))"
   ]
  },
  {
   "cell_type": "markdown",
   "id": "d15bcee6",
   "metadata": {},
   "source": [
    "#### Lines and conics on a quintic threefold"
   ]
  },
  {
   "cell_type": "code",
   "execution_count": 40,
   "id": "5effc055",
   "metadata": {},
   "outputs": [
    {
     "data": {
      "text/html": [
       "($2875 c_{2}^{3}$, $2875$)"
      ],
      "text/plain": [
       "(2875*c_{2}^3, 2875)"
      ]
     },
     "execution_count": 40,
     "metadata": {},
     "output_type": "execute_result"
    }
   ],
   "source": [
    "G = grassmannian(2, 5)\n",
    "S, Q = G.bundles\n",
    "B = symmetric_power(5, dual(S))\n",
    "ctop(B), integral(ctop(B))"
   ]
  },
  {
   "cell_type": "code",
   "execution_count": 41,
   "id": "cb9d21f5",
   "metadata": {},
   "outputs": [
    {
     "data": {
      "text/html": [
       "($609250 h^{5} c_{3}^{2}$, $609250 c_{3}^{2}$, $609250$)"
      ],
      "text/plain": [
       "(609250*h^5*c_{3}^2, 609250*c_{3}^2, 609250)"
      ]
     },
     "execution_count": 41,
     "metadata": {},
     "output_type": "execute_result"
    }
   ],
   "source": [
    "G = grassmannian(3, 5)\n",
    "S, Q = G.bundles\n",
    "B = symmetric_power(2, dual(S))\n",
    "X = proj(B)\n",
    "A = symmetric_power(5, dual(S)) - symmetric_power(3, dual(S)) * X.bundles[1]\n",
    "ctop(A), pushforward(X → G, ctop(A)), integral(ctop(A))"
   ]
  },
  {
   "cell_type": "markdown",
   "id": "28fd836f",
   "metadata": {},
   "source": [
    "#### Count the number of space conics intersecting 8 given lines"
   ]
  },
  {
   "cell_type": "code",
   "execution_count": 42,
   "id": "e0bfc555",
   "metadata": {},
   "outputs": [
    {
     "data": {
      "text/html": [
       "$92$"
      ],
      "text/latex": [
       "92"
      ],
      "text/plain": [
       "92"
      ]
     },
     "execution_count": 42,
     "metadata": {},
     "output_type": "execute_result"
    }
   ],
   "source": [
    "G = grassmannian(3, 4)\n",
    "S, Q = G.bundles\n",
    "F = proj(symmetric_power(2, dual(S)))\n",
    "d = pullback(F → G, G.O1)\n",
    "e = F.O1\n",
    "integral((2d+e)^8)"
   ]
  },
  {
   "cell_type": "markdown",
   "id": "a7e4dcc6",
   "metadata": {},
   "source": [
    "#### Euler characteristic of Horrocks-Mumford bundle\n",
    "Already done above.\n",
    "#### Riemann-Roch formulas"
   ]
  },
  {
   "cell_type": "code",
   "execution_count": 43,
   "id": "e20779ea",
   "metadata": {},
   "outputs": [
    {
     "data": {
      "text/html": [
       "$\\frac{1}{12} K^{2} D - \\frac{1}{4} K D^{2} + \\frac{1}{6} D^{3} - \\frac{1}{24} K \\operatorname{c}_{2} + \\frac{1}{12} \\operatorname{c}_{2} D$"
      ],
      "text/latex": [
       "\\frac{1}{12} K^{2} D - \\frac{1}{4} K D^{2} + \\frac{1}{6} D^{3} - \\frac{1}{24} K \\operatorname{c}_{2} + \\frac{1}{12} \\operatorname{c}_{2} D"
      ],
      "text/plain": [
       "1//12*K^2*D - 1//4*K*D^2 + 1//6*D^3 - 1//24*K*c_2 + 1//12*c_2*D"
      ]
     },
     "execution_count": 43,
     "metadata": {},
     "output_type": "execute_result"
    }
   ],
   "source": [
    "X, (K,c2,c3,D) = variety(3, [\"K\", \"c_2\", \"c_3\", \"D\"], [1,2,3,1])\n",
    "X.T = bundle(X, 3, 1-K+c2+c3)\n",
    "chi(OO(X, D))"
   ]
  },
  {
   "cell_type": "markdown",
   "id": "b388d9c0",
   "metadata": {},
   "source": [
    "#### The number of elliptic cubics on a sextic 4-fold"
   ]
  },
  {
   "cell_type": "code",
   "execution_count": 44,
   "id": "0b18203b",
   "metadata": {},
   "outputs": [
    {
     "data": {
      "text/html": [
       "$2734099200$"
      ],
      "text/latex": [
       "2734099200"
      ],
      "text/plain": [
       "2734099200"
      ]
     },
     "execution_count": 44,
     "metadata": {},
     "output_type": "execute_result"
    }
   ],
   "source": [
    "G = grassmannian(3, 6)\n",
    "S, Q = G.bundles\n",
    "B = symmetric_power(3, dual(S))\n",
    "X = proj(B)\n",
    "A = symmetric_power(6, dual(S)) - symmetric_power(3, dual(S)) * X.bundles[1]\n",
    "integral(ctop(A))"
   ]
  },
  {
   "cell_type": "code",
   "execution_count": null,
   "id": "3c64841f",
   "metadata": {},
   "outputs": [],
   "source": []
  }
 ],
 "metadata": {
  "kernelspec": {
   "display_name": "Julia 1.6.0",
   "language": "julia",
   "name": "julia-1.6"
  },
  "language_info": {
   "file_extension": ".jl",
   "mimetype": "application/julia",
   "name": "julia",
   "version": "1.6.1"
  }
 },
 "nbformat": 4,
 "nbformat_minor": 5
}
