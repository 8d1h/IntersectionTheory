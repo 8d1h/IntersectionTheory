{
 "cells": [
  {
   "cell_type": "markdown",
   "id": "e81a786c",
   "metadata": {},
   "source": [
    "Run the cell below to load the package. You should see the banners of Singular and GAP."
   ]
  },
  {
   "cell_type": "code",
   "execution_count": 1,
   "id": "1725cd80",
   "metadata": {},
   "outputs": [
    {
     "name": "stdout",
     "output_type": "stream",
     "text": [
      "Singular.jl, based on\n",
      "                     SINGULAR                               /\n",
      " A Computer Algebra System for Polynomial Computations     /  Singular.jl: 0.5.6\n",
      "                                                         0<   Singular   : 4.2.0p1\n",
      " by: W. Decker, G.-M. Greuel, G. Pfister, H. Schoenemann   \\\n",
      "FB Mathematik der Universitaet, D-67653 Kaiserslautern      \\\n",
      "     \n",
      " ┌───────┐   GAP 4.11.1 of 2021-03-02\n",
      " │  GAP  │   https://www.gap-system.org\n",
      " └───────┘   Architecture: x86_64-pc-linux-gnu-julia64-kv7\n",
      " Configuration:  gmp 6.2.1, Julia GC, Julia 1.6.1, readline\n",
      " Loading the library and packages ...\n",
      " Packages:   AClib 1.3.2, Alnuth 3.1.2, AtlasRep 2.1.0, AutoDoc 2019.09.04, \n",
      "             AutPGrp 1.10.2, CRISP 1.4.5, Cryst 4.1.23, CrystCat 1.1.9, \n",
      "             CTblLib 1.2.2, FactInt 1.6.3, FGA 1.4.0, GAPDoc 1.6.3, \n",
      "             IRREDSOL 1.4, JuliaInterface 0.5.2, LAGUNA 3.9.3, Polenta 1.3.9, \n",
      "             Polycyclic 2.15.1, PrimGrp 3.4.0, RadiRoot 2.8, ResClasses 4.7.2, \n",
      "             SmallGrp 1.4.1, Sophus 1.24, SpinSym 1.5.2, TomLib 1.2.9, \n",
      "             TransGrp 2.0.5, utils 0.69\n",
      " Try '??help' for help. See also '?copyright', '?cite' and '?authors'\n"
     ]
    }
   ],
   "source": [
    "using IntersectionTheory"
   ]
  },
  {
   "cell_type": "markdown",
   "id": "d341c9e3",
   "metadata": {},
   "source": [
    "Julia needs to \"warm up\" on startup, so the first run usually takes longer. The second time it will be much faster, and then one can take on larger examples."
   ]
  },
  {
   "cell_type": "code",
   "execution_count": 2,
   "id": "390aaff8",
   "metadata": {},
   "outputs": [
    {
     "name": "stdout",
     "output_type": "stream",
     "text": [
      "  7.343934 seconds (12.49 M allocations: 741.384 MiB, 2.54% gc time, 42.18% compilation time)\n"
     ]
    },
    {
     "data": {
      "text/plain": [
       "Dict{AbstractAlgebra.Generic.Partition{Int64}, Nemo.fmpq} with 2 entries:\n",
       "  2₂ => 828\n",
       "  4₁ => 324"
      ]
     },
     "execution_count": 2,
     "metadata": {},
     "output_type": "execute_result"
    }
   ],
   "source": [
    "@time chern_numbers(hilb_K3(2), nonzero=true)"
   ]
  },
  {
   "cell_type": "code",
   "execution_count": 3,
   "id": "679786c8",
   "metadata": {},
   "outputs": [
    {
     "name": "stdout",
     "output_type": "stream",
     "text": [
      "  0.002808 seconds (19.48 k allocations: 1.161 MiB)\n"
     ]
    },
    {
     "data": {
      "text/plain": [
       "Dict{AbstractAlgebra.Generic.Partition{Int64}, Nemo.fmpq} with 2 entries:\n",
       "  2₂ => 828\n",
       "  4₁ => 324"
      ]
     },
     "execution_count": 3,
     "metadata": {},
     "output_type": "execute_result"
    }
   ],
   "source": [
    "@time chern_numbers(hilb_K3(2), nonzero=true)"
   ]
  },
  {
   "cell_type": "code",
   "execution_count": 4,
   "id": "6cc529ee",
   "metadata": {},
   "outputs": [
    {
     "name": "stdout",
     "output_type": "stream",
     "text": [
      "  1.391914 seconds (8.93 M allocations: 873.793 MiB, 15.29% gc time, 1.99% compilation time)\n"
     ]
    },
    {
     "data": {
      "text/plain": [
       "Dict{AbstractAlgebra.Generic.Partition{Int64}, Nemo.fmpq} with 7 entries:\n",
       "  6₁4₁ => 5075424\n",
       "  6₁2₂ => 12168576\n",
       "  8₁2₁ => 1774080\n",
       "  4₁2₃ => 52697088\n",
       "  2₅   => 126867456\n",
       "  4₂2₁ => 21921408\n",
       "  10₁  => 176256"
      ]
     },
     "execution_count": 4,
     "metadata": {},
     "output_type": "execute_result"
    }
   ],
   "source": [
    "@time chern_numbers(hilb_K3(5), nonzero=true)"
   ]
  },
  {
   "cell_type": "code",
   "execution_count": 5,
   "id": "8e5c1980",
   "metadata": {},
   "outputs": [
    {
     "data": {
      "text/html": [
       "$1 + \\frac{1}{2} c_{1} + \\frac{1}{12} c_{1}^{2} + \\frac{1}{12} c_{2} + \\frac{1}{24} c_{1} c_{2} - \\frac{1}{720} c_{1}^{4} + \\frac{1}{180} c_{1}^{2} c_{2} + \\frac{1}{720} c_{1} c_{3} + \\frac{1}{240} c_{2}^{2} - \\frac{1}{720} c_{4}$"
      ],
      "text/latex": [
       "1 + \\frac{1}{2} c_{1} + \\frac{1}{12} c_{1}^{2} + \\frac{1}{12} c_{2} + \\frac{1}{24} c_{1} c_{2} - \\frac{1}{720} c_{1}^{4} + \\frac{1}{180} c_{1}^{2} c_{2} + \\frac{1}{720} c_{1} c_{3} + \\frac{1}{240} c_{2}^{2} - \\frac{1}{720} c_{4}"
      ],
      "text/plain": [
       "1 + 1//2*c_{1} + 1//12*c_{1}^2 + 1//12*c_{2} + 1//24*c_{1}*c_{2} - 1//720*c_{1}^4 + 1//180*c_{1}^2*c_{2} + 1//720*c_{1}*c_{3} + 1//240*c_{2}^2 - 1//720*c_{4}"
      ]
     },
     "execution_count": 5,
     "metadata": {},
     "output_type": "execute_result"
    }
   ],
   "source": [
    "todd(4)"
   ]
  },
  {
   "cell_type": "code",
   "execution_count": 6,
   "id": "7b84d7df",
   "metadata": {},
   "outputs": [
    {
     "name": "stdout",
     "output_type": "stream",
     "text": [
      "  1.059431 seconds (8.83 M allocations: 603.933 MiB, 23.99% gc time, 28.94% compilation time)\n"
     ]
    },
    {
     "data": {
      "text/html": [
       "$\\frac{4}{15}$"
      ],
      "text/latex": [
       "\\frac{4}{15}"
      ],
      "text/plain": [
       "4//15"
      ]
     },
     "execution_count": 6,
     "metadata": {},
     "output_type": "execute_result"
    }
   ],
   "source": [
    "@time integral(hilb_K3(5), sqrt(todd(10)))"
   ]
  },
  {
   "cell_type": "markdown",
   "id": "0451c8db",
   "metadata": {},
   "source": [
    "Check out the [documentations](https://8d1h.github.io/IntersectionTheory/dev/) for more examples and test them here! :)"
   ]
  },
  {
   "cell_type": "code",
   "execution_count": null,
   "id": "70d9a7cc",
   "metadata": {},
   "outputs": [],
   "source": []
  }
 ],
 "metadata": {
  "kernelspec": {
   "display_name": "Julia 1.6.1",
   "language": "julia",
   "name": "julia-1.6"
  },
  "language_info": {
   "file_extension": ".jl",
   "mimetype": "application/julia",
   "name": "julia",
   "version": "1.6.1"
  }
 },
 "nbformat": 4,
 "nbformat_minor": 5
}
